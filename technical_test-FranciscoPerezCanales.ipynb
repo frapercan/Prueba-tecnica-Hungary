{
 "cells": [
  {
   "cell_type": "code",
   "execution_count": 4,
   "metadata": {},
   "outputs": [],
   "source": [
    "import pandas as pd\n",
    "import numpy as np"
   ]
  },
  {
   "cell_type": "markdown",
   "metadata": {},
   "source": [
    "<img src=\"./ex1.JPG\">\n",
    "\n",
    "First of all I import csv files extracted from the excel sheet."
   ]
  },
  {
   "cell_type": "code",
   "execution_count": 5,
   "metadata": {},
   "outputs": [],
   "source": [
    "df_cc = pd.read_csv(\"./SONY_Exercise_1 - Customer claim.csv\", index_col = 'CustomerNR' )\n",
    "df_sap = pd.read_csv(\"./SONY_Exercise_1 - SAP.csv\",index_col = 'Customer nr.')"
   ]
  },
  {
   "cell_type": "markdown",
   "metadata": {},
   "source": [
    "After that, we define a function in order to check discrepancies."
   ]
  },
  {
   "cell_type": "code",
   "execution_count": 6,
   "metadata": {
    "collapsed": true
   },
   "outputs": [],
   "source": [
    "def compensation_test(customer_claim,sap):\n",
    "    customer_claims_ids = customer_claim.groupby(customer_claim.index)['QTY to compensate','End stock/Sellin'].sum()\n",
    "    sap_ids = sap.groupby(sap.index)['Processed quantity'].sum()\n",
    "    not_compensated = [(sap_id,\"not_compensated\") for sap_id in sap_ids.index if sap_id not in customer_claims_ids.index ]\n",
    "    overcompensated =  [(customer_claims_id,'overcompensated') for customer_claims_id in customer_claims_ids.index if customer_claims_id not in sap_ids.index]\n",
    "    wrong_claims = [(customer_claim_id,'wrong_claim') for customer_claim_id in customer_claims_ids.index if (customer_claims_ids.loc[customer_claim_id]['QTY to compensate'] - sap_ids.loc[customer_claim_id] != 0)]\n",
    "    suspicious_compensations =  not_compensated + overcompensated + wrong_claims\n",
    "    return  suspicious_compensations"
   ]
  },
  {
   "cell_type": "code",
   "execution_count": 7,
   "metadata": {},
   "outputs": [
    {
     "data": {
      "text/plain": [
       "[(271500357, 'not_compensated'), (272500650, 'wrong_claim')]"
      ]
     },
     "execution_count": 7,
     "metadata": {},
     "output_type": "execute_result"
    }
   ],
   "source": [
    "compensation_test(df_cc,df_sap)"
   ]
  },
  {
   "cell_type": "markdown",
   "metadata": {},
   "source": [
    "Two discrepancies:\n",
    "- 271500357 doesn't exist on customer claim sheet.\n",
    "- 272500650 Claimed one unit more than corresponding on SAP registry."
   ]
  },
  {
   "cell_type": "markdown",
   "metadata": {},
   "source": [
    "<img src=\"./ex2.JPG\">\n",
    "\n",
    "First of all I import csv files extracted from the excel sheet."
   ]
  },
  {
   "cell_type": "code",
   "execution_count": 8,
   "metadata": {
    "collapsed": true
   },
   "outputs": [],
   "source": [
    "df_ac = pd.read_csv(\"./SONY_Exercise_2 - Amounts to be compensated.csv\",index_col = 'Model name' )\n",
    "df_bq = pd.read_csv(\"./SONY_Exercise_2 - Billing qtys.csv\",index_col = 'Material')"
   ]
  },
  {
   "cell_type": "markdown",
   "metadata": {},
   "source": [
    "I define a function in order to calculate the costs."
   ]
  },
  {
   "cell_type": "code",
   "execution_count": 9,
   "metadata": {
    "collapsed": true
   },
   "outputs": [],
   "source": [
    "def calculate_total_amount(amount_compensated,billing_quantitys):\n",
    "    billing_quantitys['amount'] = [ amount_compensated.loc[index]['Amount/PC (CZK)']*qty for (index,qty) in zip(billing_quantitys.index,billing_quantitys['Bill qty'])]\n",
    "    grouped_billing_quantitys = billing_quantitys.groupby(billing_quantitys.Name)['amount'].sum()\n",
    "    return grouped_billing_quantitys,grouped_billing_quantitys.sum()"
   ]
  },
  {
   "cell_type": "code",
   "execution_count": 10,
   "metadata": {},
   "outputs": [
    {
     "data": {
      "text/plain": [
       "(Name\n",
       " AT COMPUTERS A.S.               8852\n",
       " Aaron shop s.r.o.              18620\n",
       " BER-KR SERVICES S.R.O.          4767\n",
       " CEWE COLOR a.s.                15820\n",
       " ELLEX GK S.R.O.                 5497\n",
       " Elvia pro, spol. s r.o.        16348\n",
       " MEGAPIXEL S.R.O.               20732\n",
       " Milan Skoda-FOTO               19556\n",
       " SWS A.S.                        8104\n",
       " VIDEO klinik, spol. s r. o.     1424\n",
       " Name: amount, dtype: int64, 119720)"
      ]
     },
     "execution_count": 10,
     "metadata": {},
     "output_type": "execute_result"
    }
   ],
   "source": [
    "calculate_total_amount(df_ac,df_bq)"
   ]
  },
  {
   "cell_type": "markdown",
   "metadata": {},
   "source": [
    "Total costs is 119720"
   ]
  },
  {
   "cell_type": "markdown",
   "metadata": {},
   "source": [
    "<img src=\"./ex3.JPG\">\n",
    "\n",
    "First of all I import csv file extracted from the excel sheet."
   ]
  },
  {
   "cell_type": "code",
   "execution_count": 11,
   "metadata": {
    "collapsed": true
   },
   "outputs": [],
   "source": [
    "df_fy = pd.read_csv(\"./SONY_Exercise_3 - FY13 Sept-March DI.csv\",index_col = 'Bill.Doc.')"
   ]
  },
  {
   "cell_type": "markdown",
   "metadata": {},
   "source": [
    "I parse 'bill date' colum to datetime type."
   ]
  },
  {
   "cell_type": "code",
   "execution_count": null,
   "metadata": {},
   "outputs": [],
   "source": [
    "df_fy['date'] = pd.to_datetime(df_fy['Bill. Date'])"
   ]
  },
  {
   "cell_type": "markdown",
   "metadata": {},
   "source": [
    "now we calculate the amount of bills on 2013-12-20"
   ]
  },
  {
   "cell_type": "code",
   "execution_count": null,
   "metadata": {
    "collapsed": true
   },
   "outputs": [],
   "source": [
    "ondate = df_fy.loc[df_fy['date'] == '2013-12-20']"
   ]
  },
  {
   "cell_type": "code",
   "execution_count": null,
   "metadata": {},
   "outputs": [],
   "source": [
    "ondate"
   ]
  },
  {
   "cell_type": "markdown",
   "metadata": {},
   "source": [
    "481 invoices were created on 20th of December of 2013"
   ]
  },
  {
   "cell_type": "code",
   "execution_count": null,
   "metadata": {
    "collapsed": true
   },
   "outputs": [],
   "source": [
    "krakow_invoices = df_fy.loc[df_fy['Name 1'] == 'Neonet S.A. Krakow']"
   ]
  },
  {
   "cell_type": "code",
   "execution_count": null,
   "metadata": {},
   "outputs": [],
   "source": [
    "krakow_invoices"
   ]
  },
  {
   "cell_type": "markdown",
   "metadata": {},
   "source": [
    "17 invoices were created for Neonet S.A. Krakow"
   ]
  },
  {
   "cell_type": "markdown",
   "metadata": {},
   "source": [
    "Now we select Billed quantities greather than 60"
   ]
  },
  {
   "cell_type": "code",
   "execution_count": null,
   "metadata": {},
   "outputs": [],
   "source": [
    "filtered = df_fy.loc[df_fy['Billed qty'] > 60][['Billed qty','  Cond.value']]"
   ]
  },
  {
   "cell_type": "markdown",
   "metadata": {},
   "source": [
    "Cond.value column have an invalid format for numbers, so we must transform them."
   ]
  },
  {
   "cell_type": "code",
   "execution_count": null,
   "metadata": {},
   "outputs": [],
   "source": [
    "filtered['  Cond.value'] = [value.replace('.','')for value in filtered['  Cond.value']]\n",
    "filtered['  Cond.value'] = [value.replace(',','.')for value in filtered['  Cond.value']]\n",
    "filtered['  Cond.value'] = [float(value) for value in filtered['  Cond.value']]"
   ]
  },
  {
   "cell_type": "code",
   "execution_count": null,
   "metadata": {},
   "outputs": [],
   "source": [
    "filtered\n"
   ]
  },
  {
   "cell_type": "code",
   "execution_count": null,
   "metadata": {},
   "outputs": [],
   "source": [
    "filtered.sum()"
   ]
  },
  {
   "cell_type": "markdown",
   "metadata": {},
   "source": [
    "- Total amount of bills is  5385.0\n",
    "- Total amount of conditional value is 406696.8"
   ]
  },
  {
   "cell_type": "code",
   "execution_count": null,
   "metadata": {
    "collapsed": true
   },
   "outputs": [],
   "source": []
  }
 ],
 "metadata": {
  "kernelspec": {
   "display_name": "Python 3",
   "language": "python",
   "name": "python3"
  },
  "language_info": {
   "codemirror_mode": {
    "name": "ipython",
    "version": 3
   },
   "file_extension": ".py",
   "mimetype": "text/x-python",
   "name": "python",
   "nbconvert_exporter": "python",
   "pygments_lexer": "ipython3",
   "version": "3.6.3"
  }
 },
 "nbformat": 4,
 "nbformat_minor": 2
}
